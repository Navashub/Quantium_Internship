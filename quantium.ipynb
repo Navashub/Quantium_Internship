{
 "cells": [
  {
   "cell_type": "markdown",
   "metadata": {},
   "source": [
    "# Installing Required libraries\n",
    "## load the libraries"
   ]
  },
  {
   "cell_type": "code",
   "execution_count": 17,
   "metadata": {},
   "outputs": [],
   "source": [
    "# Import Libraries\n",
    "import pandas as pd\n",
    "import numpy as np\n",
    "import matplotlib.pyplot as plt\n",
    "import seaborn as sns\n"
   ]
  },
  {
   "cell_type": "markdown",
   "metadata": {},
   "source": [
    "## Load the Data"
   ]
  },
  {
   "cell_type": "code",
   "execution_count": 18,
   "metadata": {},
   "outputs": [
    {
     "data": {
      "text/html": [
       "<div>\n",
       "<style scoped>\n",
       "    .dataframe tbody tr th:only-of-type {\n",
       "        vertical-align: middle;\n",
       "    }\n",
       "\n",
       "    .dataframe tbody tr th {\n",
       "        vertical-align: top;\n",
       "    }\n",
       "\n",
       "    .dataframe thead th {\n",
       "        text-align: right;\n",
       "    }\n",
       "</style>\n",
       "<table border=\"1\" class=\"dataframe\">\n",
       "  <thead>\n",
       "    <tr style=\"text-align: right;\">\n",
       "      <th></th>\n",
       "      <th>DATE</th>\n",
       "      <th>STORE_NBR</th>\n",
       "      <th>LYLTY_CARD_NBR</th>\n",
       "      <th>TXN_ID</th>\n",
       "      <th>PROD_NBR</th>\n",
       "      <th>PROD_NAME</th>\n",
       "      <th>PROD_QTY</th>\n",
       "      <th>TOT_SALES</th>\n",
       "    </tr>\n",
       "  </thead>\n",
       "  <tbody>\n",
       "    <tr>\n",
       "      <th>0</th>\n",
       "      <td>43390</td>\n",
       "      <td>1</td>\n",
       "      <td>1000</td>\n",
       "      <td>1</td>\n",
       "      <td>5</td>\n",
       "      <td>Natural Chip        Compny SeaSalt175g</td>\n",
       "      <td>2</td>\n",
       "      <td>6.0</td>\n",
       "    </tr>\n",
       "    <tr>\n",
       "      <th>1</th>\n",
       "      <td>43599</td>\n",
       "      <td>1</td>\n",
       "      <td>1307</td>\n",
       "      <td>348</td>\n",
       "      <td>66</td>\n",
       "      <td>CCs Nacho Cheese    175g</td>\n",
       "      <td>3</td>\n",
       "      <td>6.3</td>\n",
       "    </tr>\n",
       "    <tr>\n",
       "      <th>2</th>\n",
       "      <td>43605</td>\n",
       "      <td>1</td>\n",
       "      <td>1343</td>\n",
       "      <td>383</td>\n",
       "      <td>61</td>\n",
       "      <td>Smiths Crinkle Cut  Chips Chicken 170g</td>\n",
       "      <td>2</td>\n",
       "      <td>2.9</td>\n",
       "    </tr>\n",
       "    <tr>\n",
       "      <th>3</th>\n",
       "      <td>43329</td>\n",
       "      <td>2</td>\n",
       "      <td>2373</td>\n",
       "      <td>974</td>\n",
       "      <td>69</td>\n",
       "      <td>Smiths Chip Thinly  S/Cream&amp;Onion 175g</td>\n",
       "      <td>5</td>\n",
       "      <td>15.0</td>\n",
       "    </tr>\n",
       "    <tr>\n",
       "      <th>4</th>\n",
       "      <td>43330</td>\n",
       "      <td>2</td>\n",
       "      <td>2426</td>\n",
       "      <td>1038</td>\n",
       "      <td>108</td>\n",
       "      <td>Kettle Tortilla ChpsHny&amp;Jlpno Chili 150g</td>\n",
       "      <td>3</td>\n",
       "      <td>13.8</td>\n",
       "    </tr>\n",
       "  </tbody>\n",
       "</table>\n",
       "</div>"
      ],
      "text/plain": [
       "    DATE  STORE_NBR  LYLTY_CARD_NBR  TXN_ID  PROD_NBR  \\\n",
       "0  43390          1            1000       1         5   \n",
       "1  43599          1            1307     348        66   \n",
       "2  43605          1            1343     383        61   \n",
       "3  43329          2            2373     974        69   \n",
       "4  43330          2            2426    1038       108   \n",
       "\n",
       "                                  PROD_NAME  PROD_QTY  TOT_SALES  \n",
       "0    Natural Chip        Compny SeaSalt175g         2        6.0  \n",
       "1                  CCs Nacho Cheese    175g         3        6.3  \n",
       "2    Smiths Crinkle Cut  Chips Chicken 170g         2        2.9  \n",
       "3    Smiths Chip Thinly  S/Cream&Onion 175g         5       15.0  \n",
       "4  Kettle Tortilla ChpsHny&Jlpno Chili 150g         3       13.8  "
      ]
     },
     "execution_count": 18,
     "metadata": {},
     "output_type": "execute_result"
    }
   ],
   "source": [
    "transaction_data = pd.read_excel(\"D:\\\\Quantium_Data_Analysis_job\\\\QVI_transaction_data.xlsx\")\n",
    "purchase_behaviour = pd.read_csv(\"D:\\\\Quantium_Data_Analysis_job\\\\QVI_purchase_behaviour.csv\")\n",
    "\n",
    "# Display the first rows of each dataset\n",
    "transaction_data.head()\n",
    "\n"
   ]
  },
  {
   "cell_type": "code",
   "execution_count": 19,
   "metadata": {},
   "outputs": [
    {
     "data": {
      "text/html": [
       "<div>\n",
       "<style scoped>\n",
       "    .dataframe tbody tr th:only-of-type {\n",
       "        vertical-align: middle;\n",
       "    }\n",
       "\n",
       "    .dataframe tbody tr th {\n",
       "        vertical-align: top;\n",
       "    }\n",
       "\n",
       "    .dataframe thead th {\n",
       "        text-align: right;\n",
       "    }\n",
       "</style>\n",
       "<table border=\"1\" class=\"dataframe\">\n",
       "  <thead>\n",
       "    <tr style=\"text-align: right;\">\n",
       "      <th></th>\n",
       "      <th>LYLTY_CARD_NBR</th>\n",
       "      <th>LIFESTAGE</th>\n",
       "      <th>PREMIUM_CUSTOMER</th>\n",
       "    </tr>\n",
       "  </thead>\n",
       "  <tbody>\n",
       "    <tr>\n",
       "      <th>0</th>\n",
       "      <td>1000</td>\n",
       "      <td>YOUNG SINGLES/COUPLES</td>\n",
       "      <td>Premium</td>\n",
       "    </tr>\n",
       "    <tr>\n",
       "      <th>1</th>\n",
       "      <td>1002</td>\n",
       "      <td>YOUNG SINGLES/COUPLES</td>\n",
       "      <td>Mainstream</td>\n",
       "    </tr>\n",
       "    <tr>\n",
       "      <th>2</th>\n",
       "      <td>1003</td>\n",
       "      <td>YOUNG FAMILIES</td>\n",
       "      <td>Budget</td>\n",
       "    </tr>\n",
       "    <tr>\n",
       "      <th>3</th>\n",
       "      <td>1004</td>\n",
       "      <td>OLDER SINGLES/COUPLES</td>\n",
       "      <td>Mainstream</td>\n",
       "    </tr>\n",
       "    <tr>\n",
       "      <th>4</th>\n",
       "      <td>1005</td>\n",
       "      <td>MIDAGE SINGLES/COUPLES</td>\n",
       "      <td>Mainstream</td>\n",
       "    </tr>\n",
       "  </tbody>\n",
       "</table>\n",
       "</div>"
      ],
      "text/plain": [
       "   LYLTY_CARD_NBR               LIFESTAGE PREMIUM_CUSTOMER\n",
       "0            1000   YOUNG SINGLES/COUPLES          Premium\n",
       "1            1002   YOUNG SINGLES/COUPLES       Mainstream\n",
       "2            1003          YOUNG FAMILIES           Budget\n",
       "3            1004   OLDER SINGLES/COUPLES       Mainstream\n",
       "4            1005  MIDAGE SINGLES/COUPLES       Mainstream"
      ]
     },
     "execution_count": 19,
     "metadata": {},
     "output_type": "execute_result"
    }
   ],
   "source": [
    "purchase_behaviour.head()"
   ]
  },
  {
   "cell_type": "markdown",
   "metadata": {},
   "source": [
    "## Data Exploration"
   ]
  },
  {
   "cell_type": "markdown",
   "metadata": {},
   "source": [
    "### 1.Transaction Data"
   ]
  },
  {
   "cell_type": "code",
   "execution_count": 20,
   "metadata": {},
   "outputs": [
    {
     "name": "stdout",
     "output_type": "stream",
     "text": [
      "<class 'pandas.core.frame.DataFrame'>\n",
      "RangeIndex: 264836 entries, 0 to 264835\n",
      "Data columns (total 8 columns):\n",
      " #   Column          Non-Null Count   Dtype  \n",
      "---  ------          --------------   -----  \n",
      " 0   DATE            264836 non-null  int64  \n",
      " 1   STORE_NBR       264836 non-null  int64  \n",
      " 2   LYLTY_CARD_NBR  264836 non-null  int64  \n",
      " 3   TXN_ID          264836 non-null  int64  \n",
      " 4   PROD_NBR        264836 non-null  int64  \n",
      " 5   PROD_NAME       264836 non-null  object \n",
      " 6   PROD_QTY        264836 non-null  int64  \n",
      " 7   TOT_SALES       264836 non-null  float64\n",
      "dtypes: float64(1), int64(6), object(1)\n",
      "memory usage: 16.2+ MB\n",
      "None\n"
     ]
    }
   ],
   "source": [
    "# checking for null values , basic statistics and duplicates\n",
    "print(transaction_data.info())\n"
   ]
  },
  {
   "cell_type": "code",
   "execution_count": 21,
   "metadata": {},
   "outputs": [
    {
     "name": "stdout",
     "output_type": "stream",
     "text": [
      "                DATE     STORE_NBR  LYLTY_CARD_NBR        TXN_ID  \\\n",
      "count  264836.000000  264836.00000    2.648360e+05  2.648360e+05   \n",
      "mean    43464.036260     135.08011    1.355495e+05  1.351583e+05   \n",
      "std       105.389282      76.78418    8.057998e+04  7.813303e+04   \n",
      "min     43282.000000       1.00000    1.000000e+03  1.000000e+00   \n",
      "25%     43373.000000      70.00000    7.002100e+04  6.760150e+04   \n",
      "50%     43464.000000     130.00000    1.303575e+05  1.351375e+05   \n",
      "75%     43555.000000     203.00000    2.030942e+05  2.027012e+05   \n",
      "max     43646.000000     272.00000    2.373711e+06  2.415841e+06   \n",
      "\n",
      "            PROD_NBR       PROD_QTY      TOT_SALES  \n",
      "count  264836.000000  264836.000000  264836.000000  \n",
      "mean       56.583157       1.907309       7.304200  \n",
      "std        32.826638       0.643654       3.083226  \n",
      "min         1.000000       1.000000       1.500000  \n",
      "25%        28.000000       2.000000       5.400000  \n",
      "50%        56.000000       2.000000       7.400000  \n",
      "75%        85.000000       2.000000       9.200000  \n",
      "max       114.000000     200.000000     650.000000  \n"
     ]
    }
   ],
   "source": [
    "print(transaction_data.describe())"
   ]
  },
  {
   "cell_type": "code",
   "execution_count": 22,
   "metadata": {},
   "outputs": [
    {
     "name": "stdout",
     "output_type": "stream",
     "text": [
      "DATE              0\n",
      "STORE_NBR         0\n",
      "LYLTY_CARD_NBR    0\n",
      "TXN_ID            0\n",
      "PROD_NBR          0\n",
      "PROD_NAME         0\n",
      "PROD_QTY          0\n",
      "TOT_SALES         0\n",
      "dtype: int64\n"
     ]
    }
   ],
   "source": [
    "# Checkin for missing values\n",
    "print(transaction_data.isnull().sum())"
   ]
  },
  {
   "cell_type": "code",
   "execution_count": 23,
   "metadata": {},
   "outputs": [
    {
     "name": "stdout",
     "output_type": "stream",
     "text": [
      "1\n"
     ]
    }
   ],
   "source": [
    "# checking for duplicates\n",
    "print(transaction_data.duplicated().sum())"
   ]
  },
  {
   "cell_type": "markdown",
   "metadata": {},
   "source": [
    "### 2.Purchase_behaviour dataset\n"
   ]
  },
  {
   "cell_type": "code",
   "execution_count": 24,
   "metadata": {},
   "outputs": [
    {
     "name": "stdout",
     "output_type": "stream",
     "text": [
      "<class 'pandas.core.frame.DataFrame'>\n",
      "RangeIndex: 72637 entries, 0 to 72636\n",
      "Data columns (total 3 columns):\n",
      " #   Column            Non-Null Count  Dtype \n",
      "---  ------            --------------  ----- \n",
      " 0   LYLTY_CARD_NBR    72637 non-null  int64 \n",
      " 1   LIFESTAGE         72637 non-null  object\n",
      " 2   PREMIUM_CUSTOMER  72637 non-null  object\n",
      "dtypes: int64(1), object(2)\n",
      "memory usage: 1.7+ MB\n",
      "None\n"
     ]
    }
   ],
   "source": [
    "#check structure and summary\n",
    "print(purchase_behaviour.info())"
   ]
  },
  {
   "cell_type": "code",
   "execution_count": 25,
   "metadata": {},
   "outputs": [
    {
     "name": "stdout",
     "output_type": "stream",
     "text": [
      "       LYLTY_CARD_NBR\n",
      "count    7.263700e+04\n",
      "mean     1.361859e+05\n",
      "std      8.989293e+04\n",
      "min      1.000000e+03\n",
      "25%      6.620200e+04\n",
      "50%      1.340400e+05\n",
      "75%      2.033750e+05\n",
      "max      2.373711e+06\n"
     ]
    }
   ],
   "source": [
    "print(purchase_behaviour.describe())"
   ]
  },
  {
   "cell_type": "code",
   "execution_count": 26,
   "metadata": {},
   "outputs": [
    {
     "name": "stdout",
     "output_type": "stream",
     "text": [
      "LYLTY_CARD_NBR      0\n",
      "LIFESTAGE           0\n",
      "PREMIUM_CUSTOMER    0\n",
      "dtype: int64\n"
     ]
    }
   ],
   "source": [
    "#check for missing values \n",
    "print(purchase_behaviour.isnull().sum())"
   ]
  },
  {
   "cell_type": "code",
   "execution_count": 27,
   "metadata": {},
   "outputs": [
    {
     "name": "stdout",
     "output_type": "stream",
     "text": [
      "0\n"
     ]
    }
   ],
   "source": [
    "#check for duplicates\n",
    "print(purchase_behaviour.duplicated().sum())"
   ]
  },
  {
   "cell_type": "markdown",
   "metadata": {},
   "source": [
    "#### Convert DATE column to a date format\n",
    "#### A quick search online tells us that CSV and Excel integer dates begin on 30 Dec 1899\n"
   ]
  },
  {
   "cell_type": "code",
   "execution_count": 28,
   "metadata": {},
   "outputs": [
    {
     "name": "stdout",
     "output_type": "stream",
     "text": [
      "\n",
      "Updated DATE column\n",
      "        DATE\n",
      "0 2018-10-17\n",
      "1 2019-05-14\n",
      "2 2019-05-20\n",
      "3 2018-08-17\n",
      "4 2018-08-18\n"
     ]
    }
   ],
   "source": [
    "transaction_data['DATE'] = transaction_data['DATE'].astype(float).astype(int)\n",
    "transaction_data['DATE'] = pd.to_datetime(transaction_data['DATE'], origin='1899-12-30', unit='D')\n",
    "    \n",
    "print(\"\\nUpdated DATE column\")\n",
    "print(transaction_data[['DATE']].head())"
   ]
  },
  {
   "cell_type": "markdown",
   "metadata": {},
   "source": [
    "### Summary of the PROD_NAME Column"
   ]
  },
  {
   "cell_type": "code",
   "execution_count": 29,
   "metadata": {},
   "outputs": [
    {
     "name": "stdout",
     "output_type": "stream",
     "text": [
      "Summary of PROD_NAME Column\n",
      "count                                     264836\n",
      "unique                                       114\n",
      "top       Kettle Mozzarella   Basil & Pesto 175g\n",
      "freq                                        3304\n",
      "Name: PROD_NAME, dtype: object\n"
     ]
    }
   ],
   "source": [
    "print(\"Summary of PROD_NAME Column\")\n",
    "print(transaction_data['PROD_NAME'].describe())"
   ]
  },
  {
   "cell_type": "code",
   "execution_count": 30,
   "metadata": {},
   "outputs": [
    {
     "name": "stdout",
     "output_type": "stream",
     "text": [
      "         words\n",
      "0      Natural\n",
      "1         Chip\n",
      "2       Compny\n",
      "3  SeaSalt175g\n",
      "4          CCs\n"
     ]
    }
   ],
   "source": [
    "# split product names into individual words\n",
    "product_words = pd.Series(\" \".join(transaction_data['PROD_NAME'].unique()).split())\n",
    "\n",
    "# create df to hold these words\n",
    "product_words_df = pd.DataFrame(product_words, columns=['words'])\n",
    "\n",
    "#display few rows\n",
    "print(product_words_df.head())"
   ]
  },
  {
   "cell_type": "code",
   "execution_count": 31,
   "metadata": {},
   "outputs": [
    {
     "name": "stdout",
     "output_type": "stream",
     "text": [
      "\n",
      "Filtered product words: \n",
      "     words\n",
      "0  Natural\n",
      "1     Chip\n",
      "2   Compny\n",
      "4      CCs\n",
      "5    Nacho\n"
     ]
    }
   ],
   "source": [
    "# Remove words with digits and special characters\n",
    "\n",
    "# filter out those words\n",
    "filtered_product_words = product_words_df[~product_words_df['words'].str.contains(r'[^a-zA-Z]', regex=True)]\n",
    "\n",
    "#display cleaned list of words\n",
    "print(\"\\nFiltered product words: \")\n",
    "print(filtered_product_words.head())"
   ]
  },
  {
   "cell_type": "code",
   "execution_count": 32,
   "metadata": {},
   "outputs": [
    {
     "name": "stdout",
     "output_type": "stream",
     "text": [
      "        word  frequency\n",
      "0          g     246628\n",
      "1      Chips      49770\n",
      "2     Kettle      41288\n",
      "3     Smiths      28860\n",
      "4       Salt      27976\n",
      "5     Cheese      27890\n",
      "6   Pringles      25102\n",
      "7    Doritos      24962\n",
      "8    Crinkle      23960\n",
      "9       Corn      22063\n",
      "10  Original      21560\n",
      "11       Cut      20754\n",
      "12      Chip      18645\n",
      "13     Salsa      18094\n",
      "14   Chicken      15407\n",
      "15       Sea      14145\n",
      "16     Thins      14075\n",
      "17    Chilli      13895\n",
      "18      Sour      13882\n",
      "19    Crisps      12607\n"
     ]
    }
   ],
   "source": [
    "\n",
    "filtered_product_words = transaction_data['PROD_NAME'].str.replace(r'[^a-zA-Z\\s]', '', regex=True)\n",
    "\n",
    "# Split the cleaned product names into individual words\n",
    "product_words = filtered_product_words.str.split().explode().reset_index(drop=True)\n",
    "\n",
    "# Count the frequency \n",
    "word_counts = product_words.value_counts().reset_index()\n",
    "word_counts.columns = ['word', 'frequency']\n",
    "\n",
    "# Sort the words by freq\n",
    "word_counts_sorted = word_counts.sort_values(by='frequency', ascending=False)\n",
    "\n",
    "# Display\n",
    "print(word_counts_sorted.head(20))\n"
   ]
  },
  {
   "cell_type": "code",
   "execution_count": 33,
   "metadata": {},
   "outputs": [
    {
     "name": "stdout",
     "output_type": "stream",
     "text": [
      "\n",
      "Cleaned dataset (salsa products removed):\n",
      "        DATE  STORE_NBR  LYLTY_CARD_NBR  TXN_ID  PROD_NBR  \\\n",
      "0 2018-10-17          1            1000       1         5   \n",
      "1 2019-05-14          1            1307     348        66   \n",
      "2 2019-05-20          1            1343     383        61   \n",
      "3 2018-08-17          2            2373     974        69   \n",
      "4 2018-08-18          2            2426    1038       108   \n",
      "\n",
      "                                  PROD_NAME  PROD_QTY  TOT_SALES  \n",
      "0    Natural Chip        Compny SeaSalt175g         2        6.0  \n",
      "1                  CCs Nacho Cheese    175g         3        6.3  \n",
      "2    Smiths Crinkle Cut  Chips Chicken 170g         2        2.9  \n",
      "3    Smiths Chip Thinly  S/Cream&Onion 175g         5       15.0  \n",
      "4  Kettle Tortilla ChpsHny&Jlpno Chili 150g         3       13.8  \n"
     ]
    }
   ],
   "source": [
    "# Create a new column to flag salsa products\n",
    "transaction_data['SALSA'] = transaction_data['PROD_NAME'].str.contains('salsa', case=False)\n",
    "\n",
    "# Filter out rows where SALSA is True\n",
    "transaction_data_cleaned = transaction_data[transaction_data['SALSA'] == False].drop(columns=['SALSA'])\n",
    "\n",
    "# Display the cleaned dataset\n",
    "print(\"\\nCleaned dataset (salsa products removed):\")\n",
    "print(transaction_data_cleaned.head())\n"
   ]
  },
  {
   "cell_type": "code",
   "execution_count": 34,
   "metadata": {},
   "outputs": [
    {
     "name": "stdout",
     "output_type": "stream",
     "text": [
      "        word  frequency\n",
      "0          g     246628\n",
      "1      Chips      49770\n",
      "2     Kettle      41288\n",
      "3     Smiths      28860\n",
      "4       Salt      27976\n",
      "5     Cheese      27890\n",
      "6   Pringles      25102\n",
      "7    Doritos      24962\n",
      "8    Crinkle      23960\n",
      "9       Corn      22063\n",
      "10  Original      21560\n",
      "11       Cut      20754\n",
      "12      Chip      18645\n",
      "13     Salsa      18094\n",
      "14   Chicken      15407\n",
      "15       Sea      14145\n",
      "16     Thins      14075\n",
      "17    Chilli      13895\n",
      "18      Sour      13882\n",
      "19    Crisps      12607\n"
     ]
    }
   ],
   "source": [
    "print(word_counts_sorted.head(20))\n"
   ]
  },
  {
   "cell_type": "code",
   "execution_count": 35,
   "metadata": {},
   "outputs": [
    {
     "name": "stdout",
     "output_type": "stream",
     "text": [
      "\n",
      "Cleaned PROD_NAME column:\n",
      "0              Natural Chip Compny SeaSalt175g\n",
      "1                        CCs Nacho Cheese 175g\n",
      "2        Smiths Crinkle Cut Chips Chicken 170g\n",
      "3        Smiths Chip Thinly S/Cream&Onion 175g\n",
      "4     Kettle Tortilla ChpsHny&Jlpno Chili 150g\n",
      "6     Smiths Crinkle Chips Salt & Vinegar 330g\n",
      "7                Grain Waves Sweet Chilli 210g\n",
      "8      Doritos Corn Chip Mexican Jalapeno 150g\n",
      "9           Grain Waves Sour Cream&Chives 210G\n",
      "10    Smiths Crinkle Chips Salt & Vinegar 330g\n",
      "Name: PROD_NAME, dtype: object\n"
     ]
    }
   ],
   "source": [
    "# Remove extra spaces (leading, trailing, and between words)\n",
    "transaction_data_cleaned['PROD_NAME'] = transaction_data_cleaned['PROD_NAME'].str.strip()  # Remove leading/trailing spaces\n",
    "transaction_data_cleaned['PROD_NAME'] = transaction_data_cleaned['PROD_NAME'].str.replace(r'\\s+', ' ', regex=True)  # Replace multiple spaces with one\n",
    "\n",
    "# Now, let's look at the cleaned product names\n",
    "print(\"\\nCleaned PROD_NAME column:\")\n",
    "print(transaction_data_cleaned['PROD_NAME'].head(10))  # Display the first 10 product names\n"
   ]
  },
  {
   "cell_type": "code",
   "execution_count": 36,
   "metadata": {},
   "outputs": [
    {
     "name": "stdout",
     "output_type": "stream",
     "text": [
      "\n",
      "Top 10 Products by Frequency:\n",
      "                               Product Name  Frequency\n",
      "0      Kettle Mozzarella Basil & Pesto 175g       3304\n",
      "1  Kettle Tortilla ChpsHny&Jlpno Chili 150g       3296\n",
      "2  Cobs Popd Swt/Chlli &Sr/Cream Chips 110g       3269\n",
      "3        Tyrrells Crisps Ched & Chives 165g       3268\n",
      "4             Cobs Popd Sea Salt Chips 110g       3265\n",
      "5              Kettle 135g Swt Pot Sea Salt       3257\n",
      "6              Tostitos Splash Of Lime 175g       3252\n",
      "7  Infuzions Thai SweetChili PotatoMix 110g       3242\n",
      "8     Smiths Crnkle Chip Orgnl Big Bag 380g       3233\n",
      "9       Thins Potato Chips Hot & Spicy 175g       3229\n"
     ]
    }
   ],
   "source": [
    "# Let's check how often each product name occurs after cleaning\n",
    "product_counts = transaction_data_cleaned['PROD_NAME'].value_counts().reset_index()\n",
    "product_counts.columns = ['Product Name', 'Frequency']\n",
    "\n",
    "# Display top 10 products by frequency\n",
    "print(\"\\nTop 10 Products by Frequency:\")\n",
    "print(product_counts.head(10))\n",
    "\n"
   ]
  },
  {
   "cell_type": "code",
   "execution_count": 37,
   "metadata": {},
   "outputs": [
    {
     "name": "stdout",
     "output_type": "stream",
     "text": [
      "\n",
      "Filtered Chip Products:\n",
      "         DATE  STORE_NBR  LYLTY_CARD_NBR  TXN_ID  PROD_NBR  \\\n",
      "0  2018-10-17          1            1000       1         5   \n",
      "2  2019-05-20          1            1343     383        61   \n",
      "3  2018-08-17          2            2373     974        69   \n",
      "6  2019-05-16          4            4149    3333        16   \n",
      "8  2018-08-20          5            5026    4525        42   \n",
      "10 2019-05-17          7            7215    7176        16   \n",
      "14 2019-05-15         19           19272   16686        44   \n",
      "18 2018-08-17         22           22456   18696        93   \n",
      "26 2018-08-19         39           39167   35638       111   \n",
      "33 2019-05-18         45           45220   41651        22   \n",
      "\n",
      "                                   PROD_NAME  PROD_QTY  TOT_SALES  \n",
      "0            Natural Chip Compny SeaSalt175g         2        6.0  \n",
      "2      Smiths Crinkle Cut Chips Chicken 170g         2        2.9  \n",
      "3      Smiths Chip Thinly S/Cream&Onion 175g         5       15.0  \n",
      "6   Smiths Crinkle Chips Salt & Vinegar 330g         1        5.7  \n",
      "8    Doritos Corn Chip Mexican Jalapeno 150g         1        3.9  \n",
      "10  Smiths Crinkle Chips Salt & Vinegar 330g         1        5.7  \n",
      "14             Thins Chips Light& Tangy 175g         1        3.3  \n",
      "18   Doritos Corn Chip Southern Chicken 150g         1        3.9  \n",
      "26      Smiths Chip Thinly Cut Original 175g         2        6.0  \n",
      "33            Thins Chips Originl saltd 175g         1        3.3  \n"
     ]
    }
   ],
   "source": [
    "# Define a list of chip-related keywords\n",
    "chip_keywords = ['chip', 'crisps', 'potato', 'fries']\n",
    "\n",
    "# Create a mask to filter rows that contain any of the chip-related keywords\n",
    "chip_mask = transaction_data_cleaned['PROD_NAME'].str.contains('|'.join(chip_keywords), case=False, na=False)\n",
    "\n",
    "# Filter the dataset to include only chip products\n",
    "chip_products = transaction_data_cleaned[chip_mask]\n",
    "\n",
    "# Check the first few rows of the filtered dataset\n",
    "print(\"\\nFiltered Chip Products:\")\n",
    "print(chip_products.head(10))\n"
   ]
  },
  {
   "cell_type": "markdown",
   "metadata": {},
   "source": [
    "# outlier in the transactions"
   ]
  },
  {
   "cell_type": "code",
   "execution_count": 38,
   "metadata": {},
   "outputs": [
    {
     "name": "stdout",
     "output_type": "stream",
     "text": [
      "Outlier Transactions (200 Packets):\n",
      "Empty DataFrame\n",
      "Columns: [DATE, STORE_NBR, LYLTY_CARD_NBR, TXN_ID, PROD_NBR, PROD_NAME, PROD_QTY, TOT_SALES]\n",
      "Index: []\n"
     ]
    }
   ],
   "source": [
    "# Identify transactions where 200 packets of chips were bought\n",
    "outlier_transactions = chip_products[chip_products['PROD_QTY'] == 200]\n",
    "\n",
    "# Display the outlier transactions\n",
    "print(\"Outlier Transactions (200 Packets):\")\n",
    "print(outlier_transactions)\n"
   ]
  },
  {
   "cell_type": "code",
   "execution_count": 39,
   "metadata": {},
   "outputs": [
    {
     "name": "stdout",
     "output_type": "stream",
     "text": [
      "Loyalty Card Number with Outlier Transactions: []\n"
     ]
    }
   ],
   "source": [
    "# Get the loyalty card number of the customer with outlier transactions\n",
    "outlier_customer = outlier_transactions['LYLTY_CARD_NBR'].unique()\n",
    "\n",
    "# Display the loyalty card number(s)\n",
    "print(f\"Loyalty Card Number with Outlier Transactions: {outlier_customer}\")\n"
   ]
  },
  {
   "cell_type": "code",
   "execution_count": 40,
   "metadata": {},
   "outputs": [
    {
     "name": "stdout",
     "output_type": "stream",
     "text": [
      "        DATE    N\n",
      "0 2018-07-01  724\n",
      "1 2018-07-02  711\n",
      "2 2018-07-03  722\n",
      "3 2018-07-04  714\n",
      "4 2018-07-05  712\n"
     ]
    }
   ],
   "source": [
    "# Count the number of transactions by date\n",
    "transactions_by_day = transaction_data.groupby('DATE').size().reset_index(name='N')\n",
    "\n",
    "# Display the first few rows\n",
    "print(transactions_by_day.head())\n"
   ]
  },
  {
   "cell_type": "code",
   "execution_count": 41,
   "metadata": {},
   "outputs": [
    {
     "name": "stdout",
     "output_type": "stream",
     "text": [
      "        DATE      N\n",
      "0 2018-07-01  724.0\n",
      "1 2018-07-02  711.0\n",
      "2 2018-07-03  722.0\n",
      "3 2018-07-04  714.0\n",
      "4 2018-07-05  712.0\n"
     ]
    }
   ],
   "source": [
    "# Create a sequence of dates from 1st July 2018 to 30th June 2019\n",
    "date_range = pd.date_range(start='2018-07-01', end='2019-06-30', freq='D')\n",
    "\n",
    "# Convert the date range to a DataFrame\n",
    "date_range_df = pd.DataFrame(date_range, columns=['DATE'])\n",
    "\n",
    "# Merge the date range with the transaction data to include all dates\n",
    "transactions_by_day = pd.merge(date_range_df, transactions_by_day, on='DATE', how='left')\n",
    "\n",
    "# Fill missing transaction counts (NaNs) with 0\n",
    "transactions_by_day['N'] = transactions_by_day['N'].fillna(0)\n",
    "\n",
    "# Display the first few rows\n",
    "print(transactions_by_day.head())\n"
   ]
  },
  {
   "cell_type": "code",
   "execution_count": 42,
   "metadata": {},
   "outputs": [
    {
     "data": {
      "image/png": "[encoded data removed]",
      "text/plain": [
       "<Figure size 1000x600 with 1 Axes>"
      ]
     },
     "metadata": {},
     "output_type": "display_data"
    }
   ],
   "source": [
    "import matplotlib.pyplot as plt\n",
    "\n",
    "# Plot the number of transactions over time\n",
    "plt.figure(figsize=(10, 6))\n",
    "plt.plot(transactions_by_day['DATE'], transactions_by_day['N'], marker='o', linestyle='-', color='b')\n",
    "\n",
    "# Formatting the plot\n",
    "plt.title('Transactions Over Time')\n",
    "plt.xlabel('Date')\n",
    "plt.ylabel('Number of Transactions')\n",
    "plt.xticks(rotation=90)  # Rotate the x-axis labels for better visibility\n",
    "plt.tight_layout()\n",
    "\n",
    "# Show the plot\n",
    "plt.show()\n"
   ]
  },
  {
   "cell_type": "code",
   "execution_count": 43,
   "metadata": {},
   "outputs": [
    {
     "name": "stdout",
     "output_type": "stream",
     "text": [
      "PACK_SIZE\n",
      "125.0     1454\n",
      "180.0     1468\n",
      "70.0      1507\n",
      "220.0     1564\n",
      "160.0     2970\n",
      "190.0     2995\n",
      "90.0      3008\n",
      "210.0     3167\n",
      "250.0     3169\n",
      "135.0     3257\n",
      "200.0     4473\n",
      "270.0     6285\n",
      "380.0     6418\n",
      "330.0    12540\n",
      "300.0    15166\n",
      "165.0    15297\n",
      "170.0    19983\n",
      "110.0    22387\n",
      "134.0    25102\n",
      "150.0    41633\n",
      "175.0    64929\n",
      "dtype: int64\n"
     ]
    }
   ],
   "source": [
    "import re\n",
    "\n",
    "# Function to extract pack size (digits followed by 'g')\n",
    "def extract_pack_size(prod_name):\n",
    "    match = re.search(r'(\\d+)(?=g)', prod_name)  # Match digits before 'g'\n",
    "    if match:\n",
    "        return int(match.group(0))\n",
    "    return None  # Return None if no pack size is found\n",
    "\n",
    "# Apply the function to the PROD_NAME column\n",
    "transaction_data['PACK_SIZE'] = transaction_data['PROD_NAME'].apply(extract_pack_size)\n",
    "\n",
    "# Check if the pack sizes look sensible by counting the occurrences of each pack size\n",
    "print(transaction_data.groupby('PACK_SIZE').size().sort_values())\n"
   ]
  },
  {
   "cell_type": "code",
   "execution_count": 44,
   "metadata": {},
   "outputs": [
    {
     "data": {
      "image/png": "[encoded data removed]",
      "text/plain": [
       "<Figure size 1000x600 with 1 Axes>"
      ]
     },
     "metadata": {},
     "output_type": "display_data"
    }
   ],
   "source": [
    "import matplotlib.pyplot as plt\n",
    "\n",
    "# Plot a histogram of pack sizes\n",
    "plt.figure(figsize=(10, 6))\n",
    "transaction_data['PACK_SIZE'].value_counts().sort_index().plot(kind='bar', color='skyblue')\n",
    "plt.title('Number of Transactions by Pack Size')\n",
    "plt.xlabel('Pack Size (g)')\n",
    "plt.ylabel('Number of Transactions')\n",
    "plt.xticks(rotation=90)\n",
    "plt.tight_layout()\n",
    "plt.show()\n"
   ]
  },
  {
   "cell_type": "code",
   "execution_count": 45,
   "metadata": {},
   "outputs": [
    {
     "name": "stdout",
     "output_type": "stream",
     "text": [
      "['Natural' 'CCs' 'Smiths' 'Kettle' 'Old' 'Grain' 'Doritos' 'Twisties' 'WW'\n",
      " 'Thins' 'Burger' 'NCC' 'Cheezels' 'Infzns' 'Red' 'Pringles' 'Dorito'\n",
      " 'Infuzions' 'Smith' 'GrnWves' 'Tyrrells' 'Cobs' 'Woolworths' 'French'\n",
      " 'RRD' 'Tostitos' 'Cheetos' 'Snbts' 'Sunbites']\n"
     ]
    }
   ],
   "source": [
    "# Function to extract the brand name (the first word in PROD_NAME)\n",
    "def extract_brand_name(prod_name):\n",
    "    return prod_name.split()[0]\n",
    "\n",
    "# Apply the function to the PROD_NAME column\n",
    "transaction_data['BRAND'] = transaction_data['PROD_NAME'].apply(extract_brand_name)\n",
    "\n",
    "# Check the unique brands to ensure correctness\n",
    "print(transaction_data['BRAND'].unique())\n"
   ]
  },
  {
   "cell_type": "code",
   "execution_count": 46,
   "metadata": {},
   "outputs": [
    {
     "name": "stdout",
     "output_type": "stream",
     "text": [
      "['Natural' 'CCs' 'Smiths' 'Kettle' 'Old' 'Grain' 'Doritos' 'Twisties'\n",
      " 'Woolworths' 'Thins' 'Burger Rings' 'NCC' 'Cheezels Snacks' 'Infuzions'\n",
      " 'Red' 'Pringles' 'Grain Waves' 'Tyrrells Chips' 'Cobs Chips' 'French'\n",
      " 'RRD' 'Tostitos' 'Cheetos' 'Sunbites']\n"
     ]
    }
   ],
   "source": [
    "# Clean brand names by combining similar ones\n",
    "transaction_data['BRAND'] = transaction_data['BRAND'].replace({\n",
    "    'RED': 'RRD',  # Combine \"RED\" and \"RRD\" for Red Rock Deli\n",
    "    'Infzns': 'Infuzions',  # Combine \"Infzns\" and \"Infuzions\"\n",
    "    'Dorito': 'Doritos',  # Combine \"Dorito\" and \"Doritos\"\n",
    "    'GrnWves': 'Grain Waves',  # Combine \"GrnWves\" and \"Grain Waves\"\n",
    "    'WW': 'Woolworths',  # Combine \"WW\" and \"Woolworths\"\n",
    "    'Snbts': 'Sunbites',  # Combine \"Snbts\" and \"Sunbites\"\n",
    "    'Smith': 'Smiths',  # Combine \"Smith\" and \"Smiths\"\n",
    "    'Tyrrells': 'Tyrrells Chips',  # Make sure to standardize naming\n",
    "    'Cobs': 'Cobs Chips',  # Standardize Cobs Chips\n",
    "    'Burger': 'Burger Rings',  # Standardize Burger Rings\n",
    "    'Cheezels': 'Cheezels Snacks'  # Standardize Cheezels\n",
    "})\n",
    "\n",
    "# Check the unique brand names after cleaning\n",
    "print(transaction_data['BRAND'].unique())\n"
   ]
  },
  {
   "cell_type": "code",
   "execution_count": 47,
   "metadata": {},
   "outputs": [
    {
     "name": "stdout",
     "output_type": "stream",
     "text": [
      "BRAND\n",
      "Kettle             41288\n",
      "Smiths             31823\n",
      "Doritos            28147\n",
      "Pringles           25102\n",
      "Woolworths         14757\n",
      "Infuzions          14201\n",
      "Thins              14075\n",
      "RRD                11894\n",
      "Cobs Chips          9693\n",
      "Tostitos            9471\n",
      "Twisties            9454\n",
      "Old                 9324\n",
      "Tyrrells Chips      6442\n",
      "Grain               6272\n",
      "Natural             6050\n",
      "Red                 5885\n",
      "Cheezels Snacks     4603\n",
      "CCs                 4551\n",
      "Sunbites            3008\n",
      "Cheetos             2927\n",
      "Burger Rings        1564\n",
      "Grain Waves         1468\n",
      "NCC                 1419\n",
      "French              1418\n",
      "Name: count, dtype: int64\n"
     ]
    }
   ],
   "source": [
    "# Check the cleaned brand names again\n",
    "brand_counts = transaction_data['BRAND'].value_counts()\n",
    "print(brand_counts)\n"
   ]
  },
  {
   "cell_type": "code",
   "execution_count": 48,
   "metadata": {},
   "outputs": [],
   "source": [
    "# Remove leading/trailing spaces from the BRAND column\n",
    "transaction_data['BRAND'] = transaction_data['BRAND'].str.strip()\n"
   ]
  },
  {
   "cell_type": "code",
   "execution_count": 49,
   "metadata": {},
   "outputs": [
    {
     "name": "stdout",
     "output_type": "stream",
     "text": [
      "BRAND\n",
      "Kettle             41288\n",
      "Smiths             31823\n",
      "Doritos            28147\n",
      "Pringles           25102\n",
      "Woolworths         14757\n",
      "Infuzions          14201\n",
      "Thins              14075\n",
      "RRD                11894\n",
      "Cobs Chips          9693\n",
      "Tostitos            9471\n",
      "Twisties            9454\n",
      "Old                 9324\n",
      "Tyrrells Chips      6442\n",
      "Grain               6272\n",
      "Natural             6050\n",
      "Red                 5885\n",
      "Cheezels Snacks     4603\n",
      "CCs                 4551\n",
      "Sunbites            3008\n",
      "Cheetos             2927\n",
      "Burger Rings        1564\n",
      "Grain Waves         1468\n",
      "NCC                 1419\n",
      "French              1418\n",
      "Name: count, dtype: int64\n"
     ]
    }
   ],
   "source": [
    "# Clean brand names by combining similar ones\n",
    "transaction_data['BRAND'] = transaction_data['BRAND'].replace({\n",
    "    'RED': 'RRD',  # Combine \"RED\" and \"RRD\" for Red Rock Deli\n",
    "    'Infzns': 'Infuzions',  # Combine \"Infzns\" and \"Infuzions\"\n",
    "    'Dorito': 'Doritos',  # Combine \"Dorito\" and \"Doritos\"\n",
    "    'GrnWves': 'Grain Waves',  # Combine \"GrnWves\" and \"Grain Waves\"\n",
    "    'WW': 'Woolworths',  # Combine \"WW\" and \"Woolworths\"\n",
    "    'Snbts': 'Sunbites',  # Combine \"Snbts\" and \"Sunbites\"\n",
    "    'Smith': 'Smiths',  # Combine \"Smith\" and \"Smiths\"\n",
    "    'Tyrrells': 'Tyrrells Chips',  # Make sure to standardize naming\n",
    "    'Cobs': 'Cobs Chips',  # Standardize Cobs Chips\n",
    "    'Burger': 'Burger Rings',  # Standardize Burger Rings\n",
    "    'Cheezels': 'Cheezels Snacks'  # Standardize Cheezels\n",
    "})\n",
    "\n",
    "# Check the cleaned brand names again\n",
    "brand_counts = transaction_data['BRAND'].value_counts()\n",
    "print(brand_counts)\n"
   ]
  },
  {
   "cell_type": "code",
   "execution_count": 50,
   "metadata": {},
   "outputs": [
    {
     "name": "stdout",
     "output_type": "stream",
     "text": [
      "['Natural' 'CCs' 'Smiths' 'Kettle' 'Old' 'Grain' 'Doritos' 'Twisties'\n",
      " 'Woolworths' 'Thins' 'Burger Rings' 'NCC' 'Cheezels Snacks' 'Infuzions'\n",
      " 'Red' 'Pringles' 'Grain Waves' 'Tyrrells Chips' 'Cobs Chips' 'French'\n",
      " 'RRD' 'Tostitos' 'Cheetos' 'Sunbites']\n"
     ]
    }
   ],
   "source": [
    "# Check unique brand names after the cleaning process\n",
    "print(transaction_data['BRAND'].unique())\n"
   ]
  },
  {
   "cell_type": "code",
   "execution_count": 51,
   "metadata": {},
   "outputs": [
    {
     "name": "stdout",
     "output_type": "stream",
     "text": [
      "                                  PROD_NAME    BRAND\n",
      "0    Natural Chip        Compny SeaSalt175g  Natural\n",
      "1                  CCs Nacho Cheese    175g      CCs\n",
      "2    Smiths Crinkle Cut  Chips Chicken 170g   Smiths\n",
      "3    Smiths Chip Thinly  S/Cream&Onion 175g   Smiths\n",
      "4  Kettle Tortilla ChpsHny&Jlpno Chili 150g   Kettle\n",
      "5  Old El Paso Salsa   Dip Tomato Mild 300g      Old\n",
      "6  Smiths Crinkle Chips Salt & Vinegar 330g   Smiths\n",
      "7     Grain Waves         Sweet Chilli 210g    Grain\n",
      "8   Doritos Corn Chip Mexican Jalapeno 150g  Doritos\n",
      "9     Grain Waves Sour    Cream&Chives 210G    Grain\n"
     ]
    }
   ],
   "source": [
    "# Inspect a few rows where the brand name might not be updating\n",
    "print(transaction_data[['PROD_NAME', 'BRAND']].head(10))\n"
   ]
  },
  {
   "cell_type": "code",
   "execution_count": 53,
   "metadata": {},
   "outputs": [
    {
     "name": "stdout",
     "output_type": "stream",
     "text": [
      "['Natural' 'CCs' 'Smiths' 'Kettle' 'Old' 'Grain' 'Doritos' 'Twisties'\n",
      " 'Woolworths' 'Burger Rings' 'Cheezels Snacks' 'Infuzions' 'RRD'\n",
      " 'Pringles' 'Grain Waves' 'Tyrrells Chips' 'Cobs Chips' 'French'\n",
      " 'Tostitos' 'Cheetos' 'Sunbites']\n"
     ]
    }
   ],
   "source": [
    "# Improved brand cleaning using more variations and multiple replacements\n",
    "transaction_data['BRAND'] = transaction_data['BRAND'].replace({\n",
    "    'Red': 'RRD',  # Combine \"RED\" and \"RRD\" for Red Rock Deli\n",
    "    'Infzns': 'Infuzions',  # Combine \"Infzns\" and \"Infuzions\"\n",
    "    'Dorito': 'Doritos',  # Combine \"Dorito\" and \"Doritos\"\n",
    "    'GrnWves': 'Grain Waves',  # Combine \"GrnWves\" and \"Grain Waves\"\n",
    "    'WW': 'Woolworths',  # Combine \"WW\" and \"Woolworths\"\n",
    "    'Snbts': 'Sunbites',  # Combine \"Snbts\" and \"Sunbites\"\n",
    "    'Smith': 'Smiths',  # Combine \"Smith\" and \"Smiths\"\n",
    "    'Tyrrells': 'Tyrrells Chips',  # Standardize Tyrrells Chips\n",
    "    'Cobs': 'Cobs Chips',  # Standardize Cobs Chips\n",
    "    'Burger': 'Burger Rings',  # Standardize Burger Rings\n",
    "    'Cheezels': 'Cheezels Snacks',  # Standardize Cheezels\n",
    "    'Thins': 'Smiths',  # If 'Thins' is part of Smiths, adjust accordingly\n",
    "    'NCC': 'Smiths',  # If NCC refers to Smiths chips, adjust\n",
    "})\n",
    "\n",
    "# Check cleaned brand names again\n",
    "print(transaction_data['BRAND'].unique())\n"
   ]
  },
  {
   "cell_type": "code",
   "execution_count": 55,
   "metadata": {},
   "outputs": [
    {
     "name": "stdout",
     "output_type": "stream",
     "text": [
      "BRAND\n",
      "Smiths             47317\n",
      "Kettle             41288\n",
      "Doritos            28147\n",
      "Pringles           25102\n",
      "RRD                17779\n",
      "Woolworths         14757\n",
      "Infuzions          14201\n",
      "Cobs Chips          9693\n",
      "Tostitos            9471\n",
      "Twisties            9454\n",
      "Old                 9324\n",
      "Tyrrells Chips      6442\n",
      "Grain               6272\n",
      "Natural             6050\n",
      "Cheezels Snacks     4603\n",
      "CCs                 4551\n",
      "Sunbites            3008\n",
      "Cheetos             2927\n",
      "Burger Rings        1564\n",
      "Grain Waves         1468\n",
      "French              1418\n",
      "Name: count, dtype: int64\n"
     ]
    }
   ],
   "source": [
    "brand_counts = transaction_data['BRAND'].value_counts()\n",
    "print(brand_counts)\n"
   ]
  },
  {
   "cell_type": "markdown",
   "metadata": {},
   "source": [
    "# CUSTOMER DATASET"
   ]
  },
  {
   "cell_type": "markdown",
   "metadata": {},
   "source": [
    "### Examining customer data\n"
   ]
  },
  {
   "cell_type": "code",
   "execution_count": 58,
   "metadata": {},
   "outputs": [],
   "source": [
    "purchase_behaviour = pd.read_csv(\"D:\\\\Quantium_Data_Analysis_job\\\\QVI_purchase_behaviour.csv\")\n"
   ]
  },
  {
   "cell_type": "code",
   "execution_count": 59,
   "metadata": {},
   "outputs": [
    {
     "name": "stdout",
     "output_type": "stream",
     "text": [
      "<class 'pandas.core.frame.DataFrame'>\n",
      "RangeIndex: 72637 entries, 0 to 72636\n",
      "Data columns (total 3 columns):\n",
      " #   Column            Non-Null Count  Dtype \n",
      "---  ------            --------------  ----- \n",
      " 0   LYLTY_CARD_NBR    72637 non-null  int64 \n",
      " 1   LIFESTAGE         72637 non-null  object\n",
      " 2   PREMIUM_CUSTOMER  72637 non-null  object\n",
      "dtypes: int64(1), object(2)\n",
      "memory usage: 1.7+ MB\n",
      "None\n",
      "        LYLTY_CARD_NBR LIFESTAGE PREMIUM_CUSTOMER\n",
      "count     7.263700e+04     72637            72637\n",
      "unique             NaN         7                3\n",
      "top                NaN  RETIREES       Mainstream\n",
      "freq               NaN     14805            29245\n",
      "mean      1.361859e+05       NaN              NaN\n",
      "std       8.989293e+04       NaN              NaN\n",
      "min       1.000000e+03       NaN              NaN\n",
      "25%       6.620200e+04       NaN              NaN\n",
      "50%       1.340400e+05       NaN              NaN\n",
      "75%       2.033750e+05       NaN              NaN\n",
      "max       2.373711e+06       NaN              NaN\n"
     ]
    }
   ],
   "source": [
    "# basic summaries\n",
    "print(purchase_behaviour.info())\n",
    "print(purchase_behaviour.describe(include=\"all\"))"
   ]
  },
  {
   "cell_type": "code",
   "execution_count": 60,
   "metadata": {},
   "outputs": [
    {
     "name": "stdout",
     "output_type": "stream",
     "text": [
      "Unique values in LYLTY_CARD_NBR: 72637\n",
      "Unique values in LIFESTAGE: 7\n",
      "Unique values in PREMIUM_CUSTOMER: 3\n"
     ]
    }
   ],
   "source": [
    "# check for unique values \n",
    "for col in purchase_behaviour.columns:\n",
    "    print(f\"Unique values in {col}: {purchase_behaviour[col].nunique()}\")"
   ]
  },
  {
   "cell_type": "markdown",
   "metadata": {},
   "source": [
    "#### Merge transaction data to customer data\n"
   ]
  },
  {
   "cell_type": "code",
   "execution_count": 61,
   "metadata": {},
   "outputs": [
    {
     "name": "stdout",
     "output_type": "stream",
     "text": [
      "Number of rows before merge: 264836\n",
      "Number of rows after merge: 264836\n"
     ]
    }
   ],
   "source": [
    "# merge transaction data with the purchase behaviour data\n",
    "data = pd.merge(transaction_data, purchase_behaviour, how=\"left\", on=\"LYLTY_CARD_NBR\")\n",
    "\n",
    "# CONFIRMATION\n",
    "print(f\"Number of rows before merge: {len(transaction_data)}\")\n",
    "print(f\"Number of rows after merge: {len(data)}\")"
   ]
  },
  {
   "cell_type": "markdown",
   "metadata": {},
   "source": [
    "### checking for missing customer details"
   ]
  },
  {
   "cell_type": "code",
   "execution_count": 62,
   "metadata": {},
   "outputs": [
    {
     "name": "stdout",
     "output_type": "stream",
     "text": [
      "There are 6064 transactions with missing customer details\n",
      "          DATE  STORE_NBR  LYLTY_CARD_NBR  TXN_ID  PROD_NBR  \\\n",
      "9   2018-08-18          7            7150    6900        52   \n",
      "34  2018-08-16         51           51100   46802        48   \n",
      "35  2018-08-19         51           51100   46803        37   \n",
      "212 2019-03-13          1            1348     391        48   \n",
      "292 2018-09-02          5            5018    4465        52   \n",
      "\n",
      "                                    PROD_NAME  PROD_QTY  TOT_SALES  SALSA  \\\n",
      "9       Grain Waves Sour    Cream&Chives 210G         2        7.2  False   \n",
      "34    Red Rock Deli Sp    Salt & Truffle 150G         1        2.7  False   \n",
      "35   Smiths Thinly       Swt Chli&S/Cream175G         1        3.0  False   \n",
      "212   Red Rock Deli Sp    Salt & Truffle 150G         1        2.7  False   \n",
      "292     Grain Waves Sour    Cream&Chives 210G         2        7.2  False   \n",
      "\n",
      "     PACK_SIZE   BRAND               LIFESTAGE PREMIUM_CUSTOMER  \n",
      "9          NaN   Grain  MIDAGE SINGLES/COUPLES           Budget  \n",
      "34         NaN     RRD  MIDAGE SINGLES/COUPLES           Budget  \n",
      "35         NaN  Smiths  MIDAGE SINGLES/COUPLES           Budget  \n",
      "212        NaN     RRD  MIDAGE SINGLES/COUPLES           Budget  \n",
      "292        NaN   Grain  MIDAGE SINGLES/COUPLES           Budget  \n"
     ]
    }
   ],
   "source": [
    "missing_customers = data[data.isnull().any(axis=1)]\n",
    "\n",
    "if missing_customers.empty:\n",
    "    print(\"All transactions have matcjhed customers\")\n",
    "else:\n",
    "    print(f\"There are {len(missing_customers)} transactions with missing customer details\")\n",
    "    print(missing_customers.head())"
   ]
  },
  {
   "cell_type": "code",
   "execution_count": 65,
   "metadata": {},
   "outputs": [
    {
     "name": "stdout",
     "output_type": "stream",
     "text": [
      "Number of missing values in PACK_SIZE: 6064\n"
     ]
    }
   ],
   "source": [
    "missing_pack_size = data['PACK_SIZE'].isnull().sum()\n",
    "print(f\"Number of missing values in PACK_SIZE: {missing_pack_size}\")\n",
    "\n"
   ]
  },
  {
   "cell_type": "code",
   "execution_count": 66,
   "metadata": {},
   "outputs": [
    {
     "name": "stdout",
     "output_type": "stream",
     "text": [
      "PACK_SIZE\n",
      "175.0    64929\n",
      "150.0    41633\n",
      "134.0    25102\n",
      "110.0    22387\n",
      "170.0    19983\n",
      "165.0    15297\n",
      "300.0    15166\n",
      "330.0    12540\n",
      "380.0     6418\n",
      "270.0     6285\n",
      "200.0     4473\n",
      "135.0     3257\n",
      "250.0     3169\n",
      "210.0     3167\n",
      "90.0      3008\n",
      "190.0     2995\n",
      "160.0     2970\n",
      "220.0     1564\n",
      "70.0      1507\n",
      "180.0     1468\n",
      "125.0     1454\n",
      "Name: count, dtype: int64\n"
     ]
    }
   ],
   "source": [
    "print(data['PACK_SIZE'].value_counts())\n"
   ]
  },
  {
   "cell_type": "code",
   "execution_count": 67,
   "metadata": {},
   "outputs": [
    {
     "name": "stderr",
     "output_type": "stream",
     "text": [
      "C:\\Users\\Navas Herbert\\AppData\\Local\\Temp\\ipykernel_14424\\2086629103.py:2: FutureWarning: A value is trying to be set on a copy of a DataFrame or Series through chained assignment using an inplace method.\n",
      "The behavior will change in pandas 3.0. This inplace method will never work because the intermediate object on which we are setting values always behaves as a copy.\n",
      "\n",
      "For example, when doing 'df[col].method(value, inplace=True)', try using 'df.method({col: value}, inplace=True)' or df[col] = df[col].method(value) instead, to perform the operation inplace on the original object.\n",
      "\n",
      "\n",
      "  data['PACK_SIZE'].fillna(most_common_pack_size, inplace=True)\n"
     ]
    }
   ],
   "source": [
    "most_common_pack_size = data['PACK_SIZE'].mode()[0]\n",
    "data['PACK_SIZE'].fillna(most_common_pack_size, inplace=True)\n"
   ]
  },
  {
   "cell_type": "code",
   "execution_count": 68,
   "metadata": {},
   "outputs": [
    {
     "name": "stdout",
     "output_type": "stream",
     "text": [
      "0\n"
     ]
    }
   ],
   "source": [
    "print(data['PACK_SIZE'].isnull().sum())\n"
   ]
  },
  {
   "cell_type": "code",
   "execution_count": 69,
   "metadata": {},
   "outputs": [
    {
     "name": "stdout",
     "output_type": "stream",
     "text": [
      "Merged dataset saved as QVI_data.csv.\n"
     ]
    }
   ],
   "source": [
    "data.to_csv(\"D:\\\\Quantium_Data_Analysis_job\\\\QVI_data.csv\", index=False)\n",
    "print(\"Merged dataset saved as QVI_data.csv.\")"
   ]
  },
  {
   "cell_type": "markdown",
   "metadata": {},
   "source": [
    "## Data analysis on customer segments"
   ]
  },
  {
   "cell_type": "markdown",
   "metadata": {},
   "source": [
    "#### Calculate Total sales by LIFESTAGE and PREMIUM_CUSTOMER"
   ]
  },
  {
   "cell_type": "code",
   "execution_count": 71,
   "metadata": {},
   "outputs": [
    {
     "name": "stdout",
     "output_type": "stream",
     "text": [
      "                 LIFESTAGE PREMIUM_CUSTOMER  TOT_SALES\n",
      "6           OLDER FAMILIES           Budget  168363.25\n",
      "19   YOUNG SINGLES/COUPLES       Mainstream  157621.60\n",
      "13                RETIREES       Mainstream  155677.05\n",
      "15          YOUNG FAMILIES           Budget  139345.85\n",
      "9    OLDER SINGLES/COUPLES           Budget  136769.80\n",
      "10   OLDER SINGLES/COUPLES       Mainstream  133393.80\n",
      "11   OLDER SINGLES/COUPLES          Premium  132263.15\n",
      "12                RETIREES           Budget  113147.80\n",
      "7           OLDER FAMILIES       Mainstream  103445.55\n",
      "14                RETIREES          Premium   97646.05\n",
      "16          YOUNG FAMILIES       Mainstream   92788.75\n",
      "1   MIDAGE SINGLES/COUPLES       Mainstream   90803.85\n",
      "17          YOUNG FAMILIES          Premium   84025.50\n",
      "8           OLDER FAMILIES          Premium   81958.40\n",
      "18   YOUNG SINGLES/COUPLES           Budget   61141.60\n",
      "2   MIDAGE SINGLES/COUPLES          Premium   58432.65\n",
      "20   YOUNG SINGLES/COUPLES          Premium   41642.10\n",
      "0   MIDAGE SINGLES/COUPLES           Budget   35514.80\n",
      "3             NEW FAMILIES           Budget   21928.45\n",
      "4             NEW FAMILIES       Mainstream   17013.90\n",
      "5             NEW FAMILIES          Premium   11491.10\n"
     ]
    }
   ],
   "source": [
    "#group by LIFESTAGE and PREMIUM_CUSTOMER and calculate total sales\n",
    "\n",
    "sales_summary = (data.groupby(['LIFESTAGE', 'PREMIUM_CUSTOMER'])['TOT_SALES'].sum().reset_index().sort_values(by='TOT_SALES', ascending=False))\n",
    "\n",
    "print(sales_summary)\n"
   ]
  },
  {
   "cell_type": "markdown",
   "metadata": {},
   "source": [
    "#### Plot sales by LIFESTAGE and PREMIUM_CUSTOMER\n",
    "\n"
   ]
  },
  {
   "cell_type": "code",
   "execution_count": 72,
   "metadata": {},
   "outputs": [
    {
     "data": {
      "image/png": "[encoded data removed]",
      "text/plain": [
       "<Figure size 1200x600 with 1 Axes>"
      ]
     },
     "metadata": {},
     "output_type": "display_data"
    }
   ],
   "source": [
    "plt.figure(figsize=(12, 6))\n",
    "sns.barplot(\n",
    "    data=sales_summary,\n",
    "    x='LIFESTAGE',\n",
    "    y='TOT_SALES',\n",
    "    hue='PREMIUM_CUSTOMER',\n",
    "    palette='viridis'\n",
    ")\n",
    "plt.title('Total Sales by Lifestage and Premium Customer Segment', fontsize=14)\n",
    "plt.xlabel('Lifestage', fontsize=12)\n",
    "plt.ylabel('Total Sales', fontsize=12)\n",
    "plt.xticks(rotation=45)\n",
    "plt.legend(title='Premium Customer')\n",
    "plt.tight_layout()\n",
    "plt.show()\n"
   ]
  },
  {
   "cell_type": "markdown",
   "metadata": {},
   "source": [
    "### Number of customers in each segment"
   ]
  },
  {
   "cell_type": "code",
   "execution_count": 74,
   "metadata": {},
   "outputs": [
    {
     "name": "stdout",
     "output_type": "stream",
     "text": [
      "                 LIFESTAGE PREMIUM_CUSTOMER  Customer Count\n",
      "0   MIDAGE SINGLES/COUPLES           Budget            1504\n",
      "1   MIDAGE SINGLES/COUPLES       Mainstream            3340\n",
      "2   MIDAGE SINGLES/COUPLES          Premium            2431\n",
      "3             NEW FAMILIES           Budget            1112\n",
      "4             NEW FAMILIES       Mainstream             849\n",
      "5             NEW FAMILIES          Premium             588\n",
      "6           OLDER FAMILIES           Budget            4675\n",
      "7           OLDER FAMILIES       Mainstream            2831\n",
      "8           OLDER FAMILIES          Premium            2274\n",
      "9    OLDER SINGLES/COUPLES           Budget            4929\n",
      "10   OLDER SINGLES/COUPLES       Mainstream            4930\n",
      "11   OLDER SINGLES/COUPLES          Premium            4750\n",
      "12                RETIREES           Budget            4454\n",
      "13                RETIREES       Mainstream            6479\n",
      "14                RETIREES          Premium            3872\n",
      "15          YOUNG FAMILIES           Budget            4017\n",
      "16          YOUNG FAMILIES       Mainstream            2728\n",
      "17          YOUNG FAMILIES          Premium            2433\n",
      "18   YOUNG SINGLES/COUPLES           Budget            3779\n",
      "19   YOUNG SINGLES/COUPLES       Mainstream            8088\n",
      "20   YOUNG SINGLES/COUPLES          Premium            2574\n"
     ]
    }
   ],
   "source": [
    "customer_count = (data.groupby(['LIFESTAGE', 'PREMIUM_CUSTOMER'])['LYLTY_CARD_NBR'].nunique().reset_index().rename(columns={'LYLTY_CARD_NBR': 'Customer Count'}))\n",
    "\n",
    "print(customer_count)"
   ]
  },
  {
   "cell_type": "markdown",
   "metadata": {},
   "source": [
    "### Chips Bough per customer by segment"
   ]
  },
  {
   "cell_type": "code",
   "execution_count": 75,
   "metadata": {},
   "outputs": [
    {
     "name": "stdout",
     "output_type": "stream",
     "text": [
      "                 LIFESTAGE PREMIUM_CUSTOMER  PROD_QTY  Chips per Customer\n",
      "0   MIDAGE SINGLES/COUPLES           Budget      9496            6.313830\n",
      "1   MIDAGE SINGLES/COUPLES       Mainstream     22699            6.796108\n",
      "2   MIDAGE SINGLES/COUPLES          Premium     15526            6.386672\n",
      "3             NEW FAMILIES           Budget      5571            5.009892\n",
      "4             NEW FAMILIES       Mainstream      4319            5.087161\n",
      "5             NEW FAMILIES          Premium      2957            5.028912\n",
      "6           OLDER FAMILIES           Budget     45065            9.639572\n",
      "7           OLDER FAMILIES       Mainstream     27756            9.804309\n",
      "8           OLDER FAMILIES          Premium     22171            9.749780\n",
      "9    OLDER SINGLES/COUPLES           Budget     35220            7.145466\n",
      "10   OLDER SINGLES/COUPLES       Mainstream     34997            7.098783\n",
      "11   OLDER SINGLES/COUPLES          Premium     33986            7.154947\n",
      "12                RETIREES           Budget     28764            6.458015\n",
      "13                RETIREES       Mainstream     40518            6.253743\n",
      "14                RETIREES          Premium     24884            6.426653\n",
      "15          YOUNG FAMILIES           Budget     37111            9.238486\n",
      "16          YOUNG FAMILIES       Mainstream     25044            9.180352\n",
      "17          YOUNG FAMILIES          Premium     22406            9.209207\n",
      "18   YOUNG SINGLES/COUPLES           Budget     16671            4.411485\n",
      "19   YOUNG SINGLES/COUPLES       Mainstream     38632            4.776459\n",
      "20   YOUNG SINGLES/COUPLES          Premium     11331            4.402098\n"
     ]
    }
   ],
   "source": [
    "chips_per_customer = (data.groupby(['LIFESTAGE', 'PREMIUM_CUSTOMER'])['PROD_QTY'].sum().reset_index())\n",
    "\n",
    "chips_per_customer['Chips per Customer'] = (chips_per_customer['PROD_QTY'] / customer_count['Customer Count'])\n",
    "\n",
    "print(chips_per_customer)"
   ]
  },
  {
   "cell_type": "markdown",
   "metadata": {},
   "source": [
    "#### Average chip price by Customer Segment"
   ]
  },
  {
   "cell_type": "code",
   "execution_count": 76,
   "metadata": {},
   "outputs": [
    {
     "name": "stdout",
     "output_type": "stream",
     "text": [
      "                 LIFESTAGE PREMIUM_CUSTOMER  TOT_SALES  Avg Price per chip\n",
      "0   MIDAGE SINGLES/COUPLES           Budget   35514.80            3.739975\n",
      "1   MIDAGE SINGLES/COUPLES       Mainstream   90803.85            4.000346\n",
      "2   MIDAGE SINGLES/COUPLES          Premium   58432.65            3.763535\n",
      "3             NEW FAMILIES           Budget   21928.45            3.936178\n",
      "4             NEW FAMILIES       Mainstream   17013.90            3.939315\n",
      "5             NEW FAMILIES          Premium   11491.10            3.886067\n",
      "6           OLDER FAMILIES           Budget  168363.25            3.736009\n",
      "7           OLDER FAMILIES       Mainstream  103445.55            3.726962\n",
      "8           OLDER FAMILIES          Premium   81958.40            3.696649\n",
      "9    OLDER SINGLES/COUPLES           Budget  136769.80            3.883299\n",
      "10   OLDER SINGLES/COUPLES       Mainstream  133393.80            3.811578\n",
      "11   OLDER SINGLES/COUPLES          Premium  132263.15            3.891695\n",
      "12                RETIREES           Budget  113147.80            3.933660\n",
      "13                RETIREES       Mainstream  155677.05            3.842170\n",
      "14                RETIREES          Premium   97646.05            3.924050\n",
      "15          YOUNG FAMILIES           Budget  139345.85            3.754840\n",
      "16          YOUNG FAMILIES       Mainstream   92788.75            3.705029\n",
      "17          YOUNG FAMILIES          Premium   84025.50            3.750134\n",
      "18   YOUNG SINGLES/COUPLES           Budget   61141.60            3.667542\n",
      "19   YOUNG SINGLES/COUPLES       Mainstream  157621.60            4.080079\n",
      "20   YOUNG SINGLES/COUPLES          Premium   41642.10            3.675060\n"
     ]
    }
   ],
   "source": [
    "avg_chip_price = (data.groupby(['LIFESTAGE', 'PREMIUM_CUSTOMER'])['TOT_SALES'].sum().reset_index())\n",
    "\n",
    "avg_chip_price['Avg Price per chip'] = (avg_chip_price['TOT_SALES'] / chips_per_customer['PROD_QTY'])\n",
    "\n",
    "print(avg_chip_price)"
   ]
  },
  {
   "cell_type": "markdown",
   "metadata": {},
   "source": [
    "#### Summary of number of customers by dimensions\n"
   ]
  },
  {
   "cell_type": "code",
   "execution_count": 77,
   "metadata": {},
   "outputs": [
    {
     "data": {
      "image/png": "[encoded data removed]",
      "text/plain": [
       "<Figure size 1000x600 with 1 Axes>"
      ]
     },
     "metadata": {},
     "output_type": "display_data"
    }
   ],
   "source": [
    "\n",
    "customer_summary = data.groupby(['LIFESTAGE', 'PREMIUM_CUSTOMER']).size().reset_index(name='num_customers')\n",
    "\n",
    "# Plotting\n",
    "plt.figure(figsize=(10, 6))\n",
    "sns.barplot(x='LIFESTAGE', y='num_customers', hue='PREMIUM_CUSTOMER', data=customer_summary)\n",
    "plt.title('Number of Customers by LIFESTAGE and PREMIUM_CUSTOMER')\n",
    "plt.xlabel('LIFESTAGE')\n",
    "plt.ylabel('Number of Customers')\n",
    "plt.xticks(rotation=45)\n",
    "plt.show()\n"
   ]
  },
  {
   "cell_type": "markdown",
   "metadata": {},
   "source": [
    "### Avg number of units per customer"
   ]
  },
  {
   "cell_type": "code",
   "execution_count": 80,
   "metadata": {},
   "outputs": [
    {
     "data": {
      "image/png": "[encoded data removed]",
      "text/plain": [
       "<Figure size 1000x600 with 1 Axes>"
      ]
     },
     "metadata": {},
     "output_type": "display_data"
    }
   ],
   "source": [
    "avg_units = data.groupby(['LIFESTAGE', 'PREMIUM_CUSTOMER'])['PROD_QTY'].mean().reset_index(name='avg_units')\n",
    "\n",
    "# Plotting\n",
    "plt.figure(figsize=(10, 6))\n",
    "sns.barplot(x='LIFESTAGE', y='avg_units', hue='PREMIUM_CUSTOMER', data=avg_units)\n",
    "plt.title('Average Number of Units per Customer by LIFESTAGE and PREMIUM_CUSTOMER')\n",
    "plt.xlabel('LIFESTAGE')\n",
    "plt.ylabel('Average Units per Customer')\n",
    "plt.xticks(rotation=45)\n",
    "plt.show()\n"
   ]
  },
  {
   "cell_type": "code",
   "execution_count": 79,
   "metadata": {},
   "outputs": [
    {
     "name": "stdout",
     "output_type": "stream",
     "text": [
      "Index(['DATE', 'STORE_NBR', 'LYLTY_CARD_NBR', 'TXN_ID', 'PROD_NBR',\n",
      "       'PROD_NAME', 'PROD_QTY', 'TOT_SALES', 'SALSA', 'PACK_SIZE', 'BRAND',\n",
      "       'LIFESTAGE', 'PREMIUM_CUSTOMER'],\n",
      "      dtype='object')\n"
     ]
    }
   ],
   "source": [
    "print(data.columns)"
   ]
  },
  {
   "cell_type": "code",
   "execution_count": null,
   "metadata": {},
   "outputs": [
    {
     "name": "stdout",
     "output_type": "stream",
     "text": [
      "T-statistic: 7.517524933595948, P-value: 5.599737040675448e-14\n",
      "The unit price for mainstream, young and mid-age singles and couples ARE significantly higher than that of budget or premium, young and midage singles and couples.\n"
     ]
    }
   ],
   "source": [
    "import scipy.stats as stats\n",
    "\n",
    "mainstream = data[data['PREMIUM_CUSTOMER'] == 'Mainstream']\n",
    "budget_premium_midage_young = data[data['PREMIUM_CUSTOMER'].isin(['Budget', 'Premium'])]\n",
    "\n",
    "# Perform t-test for Mid-Age and Young Singles/Couples (adjust column names as per your dataset)\n",
    "t_stat, p_value = stats.ttest_ind(mainstream['TOT_SALES'], budget_premium_midage_young['TOT_SALES'])\n",
    "\n",
    "# Print the t-test results\n",
    "print(f'T-statistic: {t_stat}, P-value: {p_value}')\n",
    "\n",
    "# Interpreting the result\n",
    "if p_value < 0.05:\n",
    "    result = 'ARE significantly higher'\n",
    "else:\n",
    "    result = 'ARE NOT significantly higher'\n",
    "\n",
    "print(f\"The unit price for mainstream, young and mid-age singles and couples {result} than that of budget or premium, young and midage singles and couples.\")\n"
   ]
  },
  {
   "cell_type": "code",
   "execution_count": 83,
   "metadata": {},
   "outputs": [
    {
     "data": {
      "image/png": "[encoded data removed]",
      "text/plain": [
       "<Figure size 1000x600 with 1 Axes>"
      ]
     },
     "metadata": {},
     "output_type": "display_data"
    }
   ],
   "source": [
    "# Filter data for \"Mainstream - young singles/couples\"\n",
    "mainstream_young_singles_couples = data[(data['LIFESTAGE'] == 'Young Singles/Couples') & (data['PREMIUM_CUSTOMER'] == 'Mainstream')]\n",
    "\n",
    "# Find the most common brands purchased by this segment\n",
    "brand_preferences = mainstream_young_singles_couples['BRAND'].value_counts().reset_index()\n",
    "brand_preferences.columns = ['Brand', 'Frequency']\n",
    "\n",
    "# Plot the brand preferences\n",
    "plt.figure(figsize=(10, 6))\n",
    "sns.barplot(x='Brand', y='Frequency', data=brand_preferences)\n",
    "plt.title('Brand Preferences of Mainstream Young Singles/Couples')\n",
    "plt.xlabel('Brand')\n",
    "plt.ylabel('Frequency')\n",
    "plt.xticks(rotation=45)\n",
    "plt.show()\n"
   ]
  },
  {
   "cell_type": "markdown",
   "metadata": {},
   "source": [
    "Conclusion\n",
    "Let’s recap what we’ve found!\n",
    "Sales have mainly been due to Budget - older families, Mainstream - young singles/couples, and Mainstream\n",
    "- retirees shoppers. We found that the high spend in chips for mainstream young singles/couples and retirees is due to there being more of them than other buyers. Mainstream, midage and young singles and\n",
    "couples are also more likely to pay more per packet of chips. This is indicative of impulse buying behaviour.\n",
    "We’ve also found that Mainstream young singles and couples are 23% more likely to purchase Tyrrells chips\n",
    "compared to the rest of the population. The Category Manager may want to increase the category’s performance by off-locating some Tyrrells and smaller packs of chips in discretionary space near segments\n",
    "where young singles and couples frequent more often to increase visibilty and impulse behaviour.\n",
    "Quantium can help the Category Manager with recommendations of where these segments are and further\n",
    "help them with measuring the impact of the changed placement. We’ll work on measuring the impact of\n",
    "trials in the next task and putting all these together in the third task."
   ]
  },
  {
   "cell_type": "code",
   "execution_count": null,
   "metadata": {},
   "outputs": [],
   "source": []
  }
 ],
 "metadata": {
  "kernelspec": {
   "display_name": "venv",
   "language": "python",
   "name": "python3"
  },
  "language_info": {
   "codemirror_mode": {
    "name": "ipython",
    "version": 3
   },
   "file_extension": ".py",
   "mimetype": "text/x-python",
   "name": "python",
   "nbconvert_exporter": "python",
   "pygments_lexer": "ipython3",
   "version": "3.12.5"
  }
 },
 "nbformat": 4,
 "nbformat_minor": 2
}
